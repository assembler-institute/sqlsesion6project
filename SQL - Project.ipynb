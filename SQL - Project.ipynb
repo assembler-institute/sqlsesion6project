{
 "cells": [
  {
   "cell_type": "markdown",
   "id": "16a197bb",
   "metadata": {},
   "source": [
    "# SQL PROJECT\n",
    "\n",
    "To solve this project, read carefully the requirement and fulfill the requested points\n",
    "\n",
    "## Statement\n",
    "\n",
    "An international Organization intends to monitor the war conflicts that occur throughout the world. To do this, it will create a DB that will respond to the following analysis:\n",
    "Any conflict could be identified by a name that would usually refer to the area or cause that causes the conflict. Since this name can change over time, within the DB each conflict will be identified by a numerical code without any meaning. For conflict, it is desired to collect the countries it affects, as well as the number of deaths and injuries recorded up to now.\n",
    "Conflicts can be of different types depending on the cause that has originated it, being classified, at most, in four groups: Territorial, religious, economic or racial, in each of these groups various data will be collected. In territorial conflicts, the affected regions will be collected, in religious conflicts the types of religions,\n",
    "in economic terms, disputed raw materials and in racial terms, conflicting ethnic groups.\n",
    "\n",
    "\n",
    "Conflicts involve various armed groups (at least two) and various mediating organizations (there may be none). Armed groups and mediating organizations can intervene in different conflicts. Both the armed groups and the mediating organizations will be able to enter and exit the conflict, in\n",
    "In both cases, both the date of incorporation and the date of departure will be collected.\n",
    "\n",
    "The code assigned to it and a name are collected from each armed group. Each armed group has at least one division and is led by at least one political leader.\n",
    "The divisions available to an armed group are numbered consecutively and the number of ships, tanks, planes and men available to it is recorded, as well as the number of casualties.\n",
    "Arms dealers supply different types of weapons to armed groups. A name and an indicator of its destructive capacity are collected for each type of weapon. A name is collected from each trafficker, the different types of weapons that he can supply\n",
    "and the number of weapons of each of the weapon types that he could supply Political leaders are identified by name and by the code of the armed group they lead.\n",
    "\n",
    "\n",
    "From the mediating organizations, their code, their name, their type and the organization on which they depend (one at most) will be collected.\n",
    "For various purposes, political leaders dialogue with organizations; you want to explicitly collect this information. Thus, for each leader, those organizations with which he dialogues and vice versa will be collected.\n"
   ]
  },
  {
   "cell_type": "markdown",
   "id": "3d26d5ee",
   "metadata": {},
   "source": [
    "## A.- Create the relational model for this database (not physical)\n",
    "\n",
    "## B.- Create the database\n",
    "\n",
    "## C.- Perform a query that matches this statements\n",
    "\n",
    "1. The armed group that was the first to be involved in the conflict with the highest number of deaths and injuries to date has today joined the conflict of religious cause in which there have been the most mediating interventions by non-dependent mediating organisations. Insert the appropriate record by means of a data query attached.\n",
    "2. An act of war has occurred in Kabul, resulting in 12 dead and 50 wounded. This act is related to the conflict involving the armed group \"Persian\". Update the database by means of an update query.\n",
    "3. Display the total number of casualties (dead and wounded) caused by war conflicts in each country, including countries where there have been no casualties.\n",
    "4. Show the names of conflicts where mediation interventions have taken place in 2013, 2014 and 2015.\n",
    "5. Show the names of the countries that are involved in the longest active religious conflict.\n",
    "6. Show the names of armed groups that have withdrawn from all conflicts in which they have been involved, along with the date they withdrew from the last conflict."
   ]
  },
  {
   "cell_type": "code",
   "execution_count": null,
   "id": "db934c25",
   "metadata": {},
   "outputs": [],
   "source": []
  }
 ],
 "metadata": {
  "kernelspec": {
   "display_name": "Python 3 (ipykernel)",
   "language": "python",
   "name": "python3"
  },
  "language_info": {
   "codemirror_mode": {
    "name": "ipython",
    "version": 3
   },
   "file_extension": ".py",
   "mimetype": "text/x-python",
   "name": "python",
   "nbconvert_exporter": "python",
   "pygments_lexer": "ipython3",
   "version": "3.9.7"
  }
 },
 "nbformat": 4,
 "nbformat_minor": 5
}
