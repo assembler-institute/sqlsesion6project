{
 "cells": [
  {
   "cell_type": "markdown",
   "id": "e4507aa5-341e-40a9-bdcd-87522d2cac15",
   "metadata": {},
   "source": [
    "# SQL PROJECT\n",
    "\n",
    "To solve this project, read carefully the requirement and fulfill the requested points\n",
    "\n",
    "## Statement\n",
    "\n",
    "An international organisation intends to monitor war conflicts around the world. To do so, it will create a database that will respond to the following analysis:\n",
    "A conflict is defined as any armed struggle involving one or more countries in which deaths and/or injuries occur. Each conflict will be identified by a name that will usually refer to the area or cause that provokes the conflict, although given that this name may change over time, within the database each conflict will be identified by a numerical code without any meaning. For each conflict, it is desired to collect the countries affected, as well as the number of dead and wounded counted so far.\n",
    "\n",
    "Conflicts can be of different types according to the cause that has given rise to them, being classified, at most, in four groups: territorial, religious, economic or racial, in each of these groups different data will be collected. In territorial conflicts, the regions affected will be recorded, in religious conflicts the religions involved, in economic conflicts the raw materials in dispute and the location of the most important deposits of these raw materials, and in racial conflicts the ethnic groups involved.\n",
    "\n",
    "Conflicts involve various armed groups (at least two) and various mediating organisations (there may be none). The same armed groups and mediating organisations may be involved in different conflicts. Both armed groups and mediating organisations may enter and leave the conflict, with both the date of entry and the date of exit being recorded. An armed group or a mediating organisation may temporarily not intervene in any conflict.\n",
    "\n",
    "For each armed group, the code assigned to it and a name are recorded. Each armed group has at least one division and is led by at least one political leader. The divisions of an armed group are numbered consecutively and the amount of weapons and their type and number of men are recorded, as well as the number of casualties. For armed groups, the number of casualties is recorded as the sum of casualties in all divisions.\n",
    "\n",
    "Arms dealers supply different types of weapons to armed groups. For each type of weapon, a name and an indicator of its destructive capacity is collected. For each trafficker, a name, the different types of weapons it can supply and the number of weapons of each of the types of weapons it could supply are recorded. The total number of weapons of each of the different types of weapons supplied by each dealer to each armed group is kept.\n",
    "\n",
    "Political leaders are identified by name and by the code of the armed group they lead. In addition, there is a textual description of the support they possess.\n",
    "\n",
    "Each division can be jointly commanded by a maximum of three military commanders, although each military commander does not command more than one division. Each commander is identified by a code, the rank he or she holds is also recorded, and since a commander does not act on his or her own initiative but always obeys the orders of a single political leader from among those who lead the armed group to which the commander belongs, the political leader to whom he or she obeys is recorded. One or more divisions may be involved in various acts of war (battles, skirmishes, etc.) during the course of the conflict. For these acts of war, the exact location, the date, the number of casualties of all participants and the number of civilian casualties, if any, shall be stored.\n",
    "\n",
    "For mediating organisations, their code, their name, their type (non-governmental or international governmental), their organisation (maximum one), the number of persons they maintain deployed in each conflict and the type of assistance they provide in each conflict, which shall be one and only one of the following three types: medical, diplomatic or face-to-face.\n",
    "\n",
    "Political leaders engage in dialogue with organisations for a variety of purposes; this information is to be collected explicitly. Thus, for each leader, the organisations with which he or she engages in dialogue will be collected, and vice versa. These dialogue processes can take place over several sessions, which do not have to be attended by all parties involved in the conflict.\n",
    "\n",
    "For each session that has taken place, date and place will be stored, along with the attendees of each participant and the proposals of each of them. Each proposal may provoke a response from another party. It is important for the negotiation to know what response a particular proposal has provoked in each of the parties. A conclusion will also be kept for each session.\n",
    "\n",
    "Sometimes the conclusion of a round of negotiations is a peace agreement. In this case, it is necessary to store information on the conditions that each armed group sets for the ceasefire, whether it is definitive or temporary (in which case it is necessary to know what period of time it contemplates).\n",
    "\n",
    "Each armed group has a number of international allies who may play an active role in the conflict (by providing weapons or intervening in negotiations) or who may remain in the shadows, waiting for the right moment to intervene; sometimes allies stop supporting an armed group, often temporarily. In any case, we need to know the allies of each armed group at any given time.\n",
    "\n",
    "On the other hand, we must be aware of the humanitarian aid actions that are being carried out in the conflict zone. Of the humanitarian aid actions, we must know who is the organisation promoting it, the aid shipments it includes, and exactly what products it sends and in what quantity in each of these shipments. It is also necessary to know whether any of the parties to the conflict are hindering the arrival of humanitarian aid by collecting information on possible interceptions (place, date and division responsible for the interception). These actions usually target one or more refugee camps. Their approximate population of adults and children should be known for each day of the conflict.\n",
    "\n",
    "Human rights violations often occur during conflict. Information on the type of violation (torture, killing of civilians, rape, etc.), the place, the date, the number of people affected, the person in charge of the division(s) involved and the evidence of various kinds (photos, videos, etc.) of the violation should be stored. This information will be contributed to international War Crimes Trials, of which we want to store the start and end date, the accused (political or military leaders) and the verdict for each of them. The same action cannot be tried more than once, but an accused can have several different trials."
   ]
  },
  {
   "cell_type": "markdown",
   "id": "21ea2947-d92a-4f68-a351-1977efc2db58",
   "metadata": {},
   "source": [
    "## A.- Create the relational model for this database (not physical)\n",
    "\n",
    "## B.- Create the database\n",
    "\n",
    "## C.- Perform a query that matches this statements\n",
    "\n",
    "1. The armed group that was the first to be involved in the conflict with the highest number of deaths and injuries to date has today joined the conflict of religious cause in which there have been the most mediating interventions by non-dependent mediating organisations. Insert the appropriate record by means of a data query attached.\n",
    "2. An act of war has occurred in Kabul, resulting in 12 dead and 50 wounded. This act is related to the conflict involving the armed group \"Persian\". Update the database by means of an update query.\n",
    "3. Display the total number of casualties (dead and wounded) caused by war conflicts in each country, including countries where there have been no casualties.\n",
    "4. Show refugee camps with more children than adults according to the latest census where less than 10 litres of milk per child have been sent in the last three months.\n",
    "5. Show the names of conflicts where mediation interventions have taken place in 2013, 2014 and 2015.\n",
    "6. For each refugee camp, it shows the total number of shipments including milk powder that have taken place in the last six months.\n",
    "7. Show the names of the countries that are involved in the longest active religious conflict.\n",
    "8. Show the most shipped commodity in each of the shipments made by the UN's mediating organisations.\n",
    "9. Show the names of the mediating organisations that have not sent any consignments to the most populated refugee camp according to the last census carried out in the camp.\n",
    "10. Show the names of armed groups that have withdrawn from all conflicts in which they have been involved, along with the date they withdrew from the last conflict."
   ]
  }
 ],
 "metadata": {
  "kernelspec": {
   "display_name": "Python 3 (ipykernel)",
   "language": "python",
   "name": "python3"
  },
  "language_info": {
   "codemirror_mode": {
    "name": "ipython",
    "version": 3
   },
   "file_extension": ".py",
   "mimetype": "text/x-python",
   "name": "python",
   "nbconvert_exporter": "python",
   "pygments_lexer": "ipython3",
   "version": "3.9.7"
  }
 },
 "nbformat": 4,
 "nbformat_minor": 5
}
